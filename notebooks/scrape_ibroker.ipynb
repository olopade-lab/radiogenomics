{
 "cells": [
  {
   "cell_type": "markdown",
   "metadata": {},
   "source": [
    "# What does this script do?\n",
    "This script runs through a list of study ids, pulls down the imaging table produced in iBroker, concatenates the tables together, and saves them to an output csv file.\n",
    "\n",
    "# Installation\n",
    "To install the python requirements, run\n",
    "```pip install -r requirements.txt```\n",
    "\n",
    "Selenium additionally requires the installation of a driver for your browser (Chrome in this example). See here for details: https://selenium-python.readthedocs.io/installation.html"
   ]
  },
  {
   "cell_type": "code",
   "execution_count": null,
   "metadata": {},
   "outputs": [],
   "source": [
    "import numpy as np\n",
    "import pandas as pd\n",
    "from bs4 import BeautifulSoup\n",
    "from selenium import webdriver\n",
    "from selenium.webdriver.common.keys import Keys\n",
    "from tqdm.auto import tqdm"
   ]
  },
  {
   "cell_type": "code",
   "execution_count": null,
   "metadata": {},
   "outputs": [],
   "source": [
    "# insert real values here; study id file should be a text file with a list of study ids, one per line\n",
    "username = \"foo\"\n",
    "password = \"bar\"\n",
    "study_id_file = \"16352A_study_ids.csv\""
   ]
  },
  {
   "cell_type": "code",
   "execution_count": 2,
   "metadata": {},
   "outputs": [],
   "source": [
    "study_ids = pd.read_csv(study_id_file, header=None, names=[\"id\"])[\"id\"].tolist()"
   ]
  },
  {
   "cell_type": "code",
   "execution_count": null,
   "metadata": {},
   "outputs": [],
   "source": [
    "options = webdriver.ChromeOptions()\n",
    "options.add_argument(\"headless\")\n",
    "driver = webdriver.Chrome(options=options)\n",
    "driver.get(\"http://cw2radiis03.uchad.uchospitals.edu/ibroker/\")"
   ]
  },
  {
   "cell_type": "code",
   "execution_count": null,
   "metadata": {},
   "outputs": [],
   "source": [
    "elem = driver.find_element_by_name(\"tbxUsername\")\n",
    "elem.send_keys(username)\n",
    "elem.send_keys(Keys.RETURN)\n",
    "\n",
    "elem = driver.find_element_by_name(\"tbxPassword\")\n",
    "elem.send_keys(password)\n",
    "elem.send_keys(Keys.RETURN)"
   ]
  },
  {
   "cell_type": "code",
   "execution_count": null,
   "metadata": {},
   "outputs": [],
   "source": [
    "result = None\n",
    "for study_id in tqdm(study_ids):\n",
    "    elem = driver.find_element_by_name(\"tbxAssignedID\")\n",
    "    elem.clear()\n",
    "    elem.send_keys(study_id)\n",
    "    elem.send_keys(Keys.RETURN)\n",
    "\n",
    "    try:\n",
    "        soup = BeautifulSoup(driver.page_source, \"lxml\")\n",
    "        table = soup.find_all(\"table\")[3]\n",
    "\n",
    "        df = pd.read_html(str(table), parse_dates=True, header=0)[0]\n",
    "        df[\"Study DateTime\"] = pd.to_datetime(\n",
    "            df[\"Study DateTime\"], infer_datetime_format=True)\n",
    "        df.drop([\"Unnamed: 0\"], inplace=True, axis=1)\n",
    "    except KeyError:\n",
    "        d = {\"Study DateTime\": [np.nan], \"StudyDescription\": [\n",
    "            np.nan], \"Modality\": [np.nan]}\n",
    "        df = pd.DataFrame(data=d)\n",
    "    df[\"study_id\"] = study_id\n",
    "\n",
    "    if result is None:\n",
    "        result = df\n",
    "    else:\n",
    "        result = pd.concat([df, result])"
   ]
  },
  {
   "cell_type": "code",
   "execution_count": 8,
   "metadata": {},
   "outputs": [],
   "source": [
    "result.to_csv(\"imaging_metadata.csv\", index=False)"
   ]
  }
 ],
 "metadata": {
  "kernelspec": {
   "display_name": "Python 3",
   "language": "python",
   "name": "python3"
  },
  "language_info": {
   "codemirror_mode": {
    "name": "ipython",
    "version": 3
   },
   "file_extension": ".py",
   "mimetype": "text/x-python",
   "name": "python",
   "nbconvert_exporter": "python",
   "pygments_lexer": "ipython3",
   "version": "3.7.2"
  }
 },
 "nbformat": 4,
 "nbformat_minor": 4
}
